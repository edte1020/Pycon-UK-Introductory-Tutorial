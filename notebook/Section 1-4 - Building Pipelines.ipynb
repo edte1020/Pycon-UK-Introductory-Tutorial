{
 "cells": [
  {
   "cell_type": "markdown",
   "metadata": {},
   "source": [
    "# Section 1-4 - Building Pipelines\n",
    "\n",
    "GridSearchCV는 cross-validation을 기반으로 하여 parameter 집합의 성능을 살펴볼 수 있게 한다. 즉 한 번에 training data의 일부만 검토된다. 하지만 NA value 들을 평균 값들로 채울 때에는 데이터셋 전체를 검토하게 된다.\n",
    "\n",
    "따라서 우리는 GridSearchCV를 실행할 때 데이터의 일부만을 검토하는 일관성없는 접근법을 사용했지만, 누락된 값을 채울 때는 데이터의 전체 집합을 검토했다. pipeline을 만들고 imputation을 하면 이러한 일관성없음을 피할 수 있다."
   ]
  },
  {
   "cell_type": "markdown",
   "metadata": {},
   "source": [
    "# Pandas - Extracting data"
   ]
  },
  {
   "cell_type": "code",
   "execution_count": 6,
   "metadata": {
    "collapsed": true
   },
   "outputs": [],
   "source": [
    "import numpy as np\n",
    "import pandas as pd\n",
    "\n",
    "df = pd.read_csv('../data/train.csv')"
   ]
  },
  {
   "cell_type": "markdown",
   "metadata": {},
   "source": [
    "# Pandas - Cleaning data\n",
    "\n",
    "Age column의 NA value를 그대로 둔다."
   ]
  },
  {
   "cell_type": "code",
   "execution_count": 10,
   "metadata": {},
   "outputs": [
    {
     "name": "stderr",
     "output_type": "stream",
     "text": [
      "C:\\Users\\edte1\\Anaconda3\\lib\\site-packages\\scipy\\stats\\stats.py:253: RuntimeWarning: The input array could not be properly checked for nan values. nan values will be ignored.\n",
      "  \"values. nan values will be ignored.\", RuntimeWarning)\n"
     ]
    }
   ],
   "source": [
    "df = df.drop(['Name', 'Ticket', 'Cabin'], axis=1)\n",
    "\n",
    "age_mean = df['Age'].mean()\n",
    "\n",
    "from scipy.stats import mode\n",
    "\n",
    "mode_embarked = mode(df['Embarked'].tolist())[0][0]\n",
    "df['Embarked'] = df['Embarked'].fillna(mode_embarked)\n",
    "\n",
    "df['Gender'] = df['Sex'].map({'female': 0, 'male': 1}).astype(int)\n",
    "\n",
    "df = pd.concat([df, pd.get_dummies(df['Embarked'], prefix='Embarked')], axis=1)\n",
    "\n",
    "df = df.drop(['Sex', 'Embarked'], axis=1)\n",
    "\n",
    "cols = df.columns.tolist()\n",
    "cols = [cols[1]] + cols[0:1] + cols[2:]\n",
    "\n",
    "df = df[cols]"
   ]
  },
  {
   "cell_type": "markdown",
   "metadata": {},
   "source": [
    "Age column의 NA value들을 음수 마커인 -1로 바꾼다. 어떤 버그가 있어서 missing value marker를 사용하지 못하기 때문이다."
   ]
  },
  {
   "cell_type": "code",
   "execution_count": 12,
   "metadata": {
    "collapsed": true
   },
   "outputs": [],
   "source": [
    "df = df.fillna(-1)"
   ]
  },
  {
   "cell_type": "markdown",
   "metadata": {},
   "source": [
    "이제 데이터 셋을 살펴보자"
   ]
  },
  {
   "cell_type": "code",
   "execution_count": 13,
   "metadata": {},
   "outputs": [
    {
     "name": "stdout",
     "output_type": "stream",
     "text": [
      "<class 'pandas.core.frame.DataFrame'>\n",
      "RangeIndex: 891 entries, 0 to 890\n",
      "Data columns (total 11 columns):\n",
      "Survived       891 non-null int64\n",
      "PassengerId    891 non-null int64\n",
      "Pclass         891 non-null int64\n",
      "Age            891 non-null float64\n",
      "SibSp          891 non-null int64\n",
      "Parch          891 non-null int64\n",
      "Fare           891 non-null float64\n",
      "Gender         891 non-null int32\n",
      "Embarked_C     891 non-null uint8\n",
      "Embarked_Q     891 non-null uint8\n",
      "Embarked_S     891 non-null uint8\n",
      "dtypes: float64(2), int32(1), int64(5), uint8(3)\n",
      "memory usage: 54.9 KB\n"
     ]
    }
   ],
   "source": [
    "df.info()"
   ]
  },
  {
   "cell_type": "code",
   "execution_count": 14,
   "metadata": {
    "collapsed": true
   },
   "outputs": [],
   "source": [
    "train_data = df.values"
   ]
  },
  {
   "cell_type": "markdown",
   "metadata": {},
   "source": [
    "## Scikit-learn - Training the model\n",
    "\n",
    "pipeline을 만들어서 training data의 한 부분을 차지하는 Age column을 평균값으로 채우고, tuning parameter의 성능을 평가해 보도록 한다."
   ]
  },
  {
   "cell_type": "code",
   "execution_count": 30,
   "metadata": {},
   "outputs": [],
   "source": [
    "from sklearn.pipeline import Pipeline\n",
    "from sklearn.preprocessing import Imputer\n",
    "from sklearn.ensemble import RandomForestClassifier\n",
    "from sklearn.grid_search import GridSearchCV\n",
    "\n",
    "imputer = Imputer(strategy='mean', missing_values=-1)\n",
    "\n",
    "classifier = RandomForestClassifier(n_estimators=100)\n",
    "\n",
    "pipeline = Pipeline([\n",
    "    ('imp', imputer),\n",
    "    ('clf', classifier),\n",
    "])"
   ]
  },
  {
   "cell_type": "markdown",
   "metadata": {},
   "source": [
    "parameter grid 내부에서 약간의 문법의 변화를 주도록 한다."
   ]
  },
  {
   "cell_type": "code",
   "execution_count": 31,
   "metadata": {
    "collapsed": true
   },
   "outputs": [],
   "source": [
    "parameter_grid = {\n",
    "    'clf__max_features': [0.5, 1],\n",
    "    'clf__max_depth': [5, None],\n",
    "}"
   ]
  },
  {
   "cell_type": "markdown",
   "metadata": {},
   "source": [
    "GridSearchCV를 실행시키되, classifier를 pipeline으로 대체한다."
   ]
  },
  {
   "cell_type": "code",
   "execution_count": 32,
   "metadata": {},
   "outputs": [],
   "source": [
    "grid_search = GridSearchCV(pipeline, parameter_grid, cv=5, verbose=3)"
   ]
  },
  {
   "cell_type": "code",
   "execution_count": 35,
   "metadata": {},
   "outputs": [
    {
     "name": "stdout",
     "output_type": "stream",
     "text": [
      "Fitting 5 folds for each of 4 candidates, totalling 20 fits\n",
      "[CV] clf__max_depth=5, clf__max_features=0.5 .........................\n",
      "[CV]  clf__max_depth=5, clf__max_features=0.5, score=0.748603 -   0.0s\n",
      "[CV] clf__max_depth=5, clf__max_features=0.5 .........................\n"
     ]
    },
    {
     "name": "stderr",
     "output_type": "stream",
     "text": [
      "[Parallel(n_jobs=1)]: Done   1 out of   1 | elapsed:    0.0s remaining:    0.0s\n",
      "[Parallel(n_jobs=1)]: Done   2 out of   2 | elapsed:    0.2s remaining:    0.0s\n"
     ]
    },
    {
     "name": "stdout",
     "output_type": "stream",
     "text": [
      "[CV]  clf__max_depth=5, clf__max_features=0.5, score=0.821229 -   0.0s\n",
      "[CV] clf__max_depth=5, clf__max_features=0.5 .........................\n",
      "[CV]  clf__max_depth=5, clf__max_features=0.5, score=0.825843 -   0.0s\n",
      "[CV] clf__max_depth=5, clf__max_features=0.5 .........................\n",
      "[CV]  clf__max_depth=5, clf__max_features=0.5, score=0.780899 -   0.0s\n",
      "[CV] clf__max_depth=5, clf__max_features=0.5 .........................\n",
      "[CV]  clf__max_depth=5, clf__max_features=0.5, score=0.836158 -   0.0s\n",
      "[CV] clf__max_depth=5, clf__max_features=1 ...........................\n",
      "[CV] .. clf__max_depth=5, clf__max_features=1, score=0.648045 -   0.0s\n",
      "[CV] clf__max_depth=5, clf__max_features=1 ...........................\n",
      "[CV] .. clf__max_depth=5, clf__max_features=1, score=0.832402 -   0.0s\n",
      "[CV] clf__max_depth=5, clf__max_features=1 ...........................\n",
      "[CV] .. clf__max_depth=5, clf__max_features=1, score=0.842697 -   0.0s\n",
      "[CV] clf__max_depth=5, clf__max_features=1 ...........................\n",
      "[CV] .. clf__max_depth=5, clf__max_features=1, score=0.803371 -   0.0s\n",
      "[CV] clf__max_depth=5, clf__max_features=1 ...........................\n",
      "[CV] .. clf__max_depth=5, clf__max_features=1, score=0.847458 -   0.0s\n",
      "[CV] clf__max_depth=None, clf__max_features=0.5 ......................\n",
      "[CV]  clf__max_depth=None, clf__max_features=0.5, score=0.681564 -   0.1s\n",
      "[CV] clf__max_depth=None, clf__max_features=0.5 ......................\n",
      "[CV]  clf__max_depth=None, clf__max_features=0.5, score=0.810056 -   0.0s\n",
      "[CV] clf__max_depth=None, clf__max_features=0.5 ......................\n",
      "[CV]  clf__max_depth=None, clf__max_features=0.5, score=0.848315 -   0.1s\n",
      "[CV] clf__max_depth=None, clf__max_features=0.5 ......................\n",
      "[CV]  clf__max_depth=None, clf__max_features=0.5, score=0.825843 -   0.1s\n",
      "[CV] clf__max_depth=None, clf__max_features=0.5 ......................\n",
      "[CV]  clf__max_depth=None, clf__max_features=0.5, score=0.841808 -   0.1s\n",
      "[CV] clf__max_depth=None, clf__max_features=1 ........................\n",
      "[CV]  clf__max_depth=None, clf__max_features=1, score=0.737430 -   0.0s\n",
      "[CV] clf__max_depth=None, clf__max_features=1 ........................\n",
      "[CV]  clf__max_depth=None, clf__max_features=1, score=0.782123 -   0.1s\n",
      "[CV] clf__max_depth=None, clf__max_features=1 ........................\n",
      "[CV]  clf__max_depth=None, clf__max_features=1, score=0.814607 -   0.0s\n",
      "[CV] clf__max_depth=None, clf__max_features=1 ........................\n",
      "[CV]  clf__max_depth=None, clf__max_features=1, score=0.842697 -   0.0s\n",
      "[CV] clf__max_depth=None, clf__max_features=1 ........................\n",
      "[CV]  clf__max_depth=None, clf__max_features=1, score=0.847458 -   0.0s\n"
     ]
    },
    {
     "name": "stderr",
     "output_type": "stream",
     "text": [
      "[Parallel(n_jobs=1)]: Done  20 out of  20 | elapsed:    2.6s finished\n"
     ]
    },
    {
     "data": {
      "text/plain": [
       "GridSearchCV(cv=5, error_score='raise',\n",
       "       estimator=Pipeline(steps=[('imp', Imputer(axis=0, copy=True, missing_values=-1, strategy='mean', verbose=0)), ('clf', RandomForestClassifier(bootstrap=True, class_weight=None, criterion='gini',\n",
       "            max_depth=None, max_features='auto', max_leaf_nodes=None,\n",
       "            min_impurity_split=1e-07...ators=100, n_jobs=1, oob_score=False, random_state=None,\n",
       "            verbose=0, warm_start=False))]),\n",
       "       fit_params={}, iid=True, n_jobs=1,\n",
       "       param_grid={'clf__max_features': [0.5, 1], 'clf__max_depth': [5, None]},\n",
       "       pre_dispatch='2*n_jobs', refit=True, scoring=None, verbose=3)"
      ]
     },
     "execution_count": 35,
     "metadata": {},
     "output_type": "execute_result"
    }
   ],
   "source": [
    "grid_search.fit(train_data[0:,1:], train_data[0:,0])"
   ]
  },
  {
   "cell_type": "code",
   "execution_count": 39,
   "metadata": {},
   "outputs": [
    {
     "data": {
      "text/plain": [
       "(0.8047138047138047, {'clf__max_depth': None, 'clf__max_features': 1})"
      ]
     },
     "execution_count": 39,
     "metadata": {},
     "output_type": "execute_result"
    }
   ],
   "source": [
    "sorted(grid_search.grid_scores_, key=lambda x: x.mean_validation_score)\n",
    "grid_search.best_score_, grid_search.best_params_\n"
   ]
  },
  {
   "cell_type": "markdown",
   "metadata": {},
   "source": [
    "Age column의 -1값(여기서는 -1이 NaN 값이 된다)을 원하는 값으로 바꿔주고 model을 학습시키도록 한다."
   ]
  },
  {
   "cell_type": "code",
   "execution_count": 41,
   "metadata": {},
   "outputs": [
    {
     "data": {
      "text/plain": [
       "count    891.000000\n",
       "mean      23.600640\n",
       "std       17.867496\n",
       "min       -1.000000\n",
       "25%        6.000000\n",
       "50%       24.000000\n",
       "75%       35.000000\n",
       "max       80.000000\n",
       "Name: Age, dtype: float64"
      ]
     },
     "execution_count": 41,
     "metadata": {},
     "output_type": "execute_result"
    }
   ],
   "source": [
    "df['Age'].describe()"
   ]
  },
  {
   "cell_type": "code",
   "execution_count": 42,
   "metadata": {
    "collapsed": true
   },
   "outputs": [],
   "source": [
    "df['Age'] = df['Age'].map(lambda x: age_mean if x == -1 else x)"
   ]
  },
  {
   "cell_type": "code",
   "execution_count": 43,
   "metadata": {},
   "outputs": [
    {
     "data": {
      "text/plain": [
       "count    891.000000\n",
       "mean      29.699118\n",
       "std       13.002015\n",
       "min        0.420000\n",
       "25%       22.000000\n",
       "50%       29.699118\n",
       "75%       35.000000\n",
       "max       80.000000\n",
       "Name: Age, dtype: float64"
      ]
     },
     "execution_count": 43,
     "metadata": {},
     "output_type": "execute_result"
    }
   ],
   "source": [
    "df['Age'].describe()"
   ]
  },
  {
   "cell_type": "code",
   "execution_count": 44,
   "metadata": {
    "collapsed": true
   },
   "outputs": [],
   "source": [
    "train_data = df.values"
   ]
  },
  {
   "cell_type": "code",
   "execution_count": 47,
   "metadata": {},
   "outputs": [],
   "source": [
    "model = RandomForestClassifier(n_estimators=100, max_features=0.5, max_depth=5)\n",
    "model = model.fit(train_data[0:, 2:], train_data[0:, 0])"
   ]
  },
  {
   "cell_type": "markdown",
   "metadata": {},
   "source": [
    "## Scikit-learn - Making predictions"
   ]
  },
  {
   "cell_type": "code",
   "execution_count": 48,
   "metadata": {
    "collapsed": true
   },
   "outputs": [],
   "source": [
    "df_test = pd.read_csv('../data/test.csv')\n",
    "\n",
    "df_test = df_test.drop(['Name', 'Ticket', 'Cabin'], axis=1)"
   ]
  },
  {
   "cell_type": "markdown",
   "metadata": {},
   "source": [
    "test data의 NA value들을 평균값으로 채운다."
   ]
  },
  {
   "cell_type": "code",
   "execution_count": 49,
   "metadata": {
    "collapsed": true
   },
   "outputs": [],
   "source": [
    "df_test['Age'] = df_test['Age'].fillna(age_mean)"
   ]
  },
  {
   "cell_type": "code",
   "execution_count": 53,
   "metadata": {},
   "outputs": [],
   "source": [
    "fare_means = df.pivot_table('Fare', index='Pclass', aggfunc='mean')\n",
    "df_test['Fare'] = df_test[['Fare', 'Pclass']].apply(lambda x: fare_means.loc[x['Pclass']] if pd.isnull(x['Fare']) else x['Fare'], axis=1)\n",
    "\n",
    "df_test['Gender'] = df_test['Sex'].map({'female': 0, 'male': 1}).astype(int)\n",
    "df_test = pd.concat([df_test, pd.get_dummies(df_test['Embarked'], prefix='Embarked')],\n",
    "                   axis=1)\n",
    "\n",
    "df_test = df_test.drop(['Sex', 'Embarked'], axis=1)\n",
    "\n",
    "test_data = df_test.values\n",
    "\n",
    "output = model.predict(test_data[0:, 1:])"
   ]
  },
  {
   "cell_type": "markdown",
   "metadata": {},
   "source": [
    "## Pandas - Preparing for submission"
   ]
  },
  {
   "cell_type": "code",
   "execution_count": 54,
   "metadata": {
    "collapsed": true
   },
   "outputs": [],
   "source": [
    "result = np.c_[test_data[:, 0], output.astype(int)]\n",
    "\n",
    "df_result = pd.DataFrame(result, columns=['PassengerID', 'Survived'])\n",
    "df_result.to_csv('../results/titanic_test_1-4.csv', index=False)"
   ]
  }
 ],
 "metadata": {
  "kernelspec": {
   "display_name": "Python 3",
   "language": "python",
   "name": "python3"
  },
  "language_info": {
   "codemirror_mode": {
    "name": "ipython",
    "version": 3
   },
   "file_extension": ".py",
   "mimetype": "text/x-python",
   "name": "python",
   "nbconvert_exporter": "python",
   "pygments_lexer": "ipython3",
   "version": "3.6.1"
  }
 },
 "nbformat": 4,
 "nbformat_minor": 2
}
