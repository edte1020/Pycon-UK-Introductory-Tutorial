{
 "cells": [
  {
   "cell_type": "markdown",
   "metadata": {},
   "source": [
    "# Section 1-3 - Parameter Tuning\n",
    "\n",
    "이전 섹션들에서, 우리는 Scikit-learn을 블랙박스로서 사용하는 접근법을 알아보았다. 이제 parameter들을 튜닝하여 model accruracy를 향상시키는 방법에 대해서 알아보도록 한다."
   ]
  },
  {
   "cell_type": "markdown",
   "metadata": {},
   "source": [
    "# Pandas - Extracting data"
   ]
  },
  {
   "cell_type": "code",
   "execution_count": 1,
   "metadata": {
    "collapsed": true
   },
   "outputs": [],
   "source": [
    "import pandas as pd\n",
    "import numpy as np\n",
    "\n",
    "df = pd.read_csv('../data/train.csv')"
   ]
  },
  {
   "cell_type": "markdown",
   "metadata": {},
   "source": [
    "# Pandas - Cleaning data"
   ]
  },
  {
   "cell_type": "code",
   "execution_count": 2,
   "metadata": {},
   "outputs": [
    {
     "name": "stderr",
     "output_type": "stream",
     "text": [
      "C:\\Users\\edte1\\Anaconda3\\lib\\site-packages\\scipy\\stats\\stats.py:253: RuntimeWarning: The input array could not be properly checked for nan values. nan values will be ignored.\n",
      "  \"values. nan values will be ignored.\", RuntimeWarning)\n"
     ]
    }
   ],
   "source": [
    "df = df.drop(['Name', 'Ticket', 'Cabin'], axis=1)\n",
    "\n",
    "age_mean = df['Age'].mean()\n",
    "df['Age'] = df['Age'].fillna(age_mean)\n",
    "\n",
    "from scipy.stats import mode\n",
    "\n",
    "mode_embarked = mode(df['Embarked'].tolist())[0][0]\n",
    "df['Embarked'] = df['Embarked'].fillna(mode_embarked)\n",
    "\n",
    "df['Gender'] = df['Sex'].map({'female': 0, 'male': 1}).astype(int)\n",
    "\n",
    "df = pd.concat([df, pd.get_dummies(df['Embarked'], prefix='Embarked')], axis=1)\n",
    "\n",
    "df = df.drop(['Sex', 'Embarked'], axis=1)\n",
    "\n",
    "cols = df.columns.tolist()\n",
    "cols = [cols[1]] + cols[0:1] + cols[2:]\n",
    "\n",
    "df = df[cols]\n",
    "\n",
    "train_data = df.values"
   ]
  },
  {
   "cell_type": "markdown",
   "metadata": {},
   "source": [
    "# Scikit-learn -Training the model\n",
    "\n",
    "Random Forest Classifier의 documentation은 model의 input parameter에 대해 자세하게 설명하고 있다. input parameter들은 tree의 수, 그리고 각 tree가 갖는 branch들의 수를 포함한다.\n",
    "\n",
    "http://scikit-learn.org/stable/modules/generated/sklearn.ensemble.RandomForestClassifier.html\n",
    "\n",
    "GridSearchCV는 디자인 된 input parameter들의 범위를 테스트할 수 있도록 해준다. 그리고 각 값들의 set을 cross-validation 기반 하에서 성능을 테스트 할 수 있도록 해준다. 여기서는 각 branch가 만들어지는 각 단계 (max_features: feature의 50% 혹은 100%)와 최대 branch 수 (max_depth : 5 단계 또는 제한 없음)에서 고려한 feature의 수를 검토합니다."
   ]
  },
  {
   "cell_type": "code",
   "execution_count": 3,
   "metadata": {},
   "outputs": [
    {
     "name": "stderr",
     "output_type": "stream",
     "text": [
      "C:\\Users\\edte1\\Anaconda3\\lib\\site-packages\\sklearn\\cross_validation.py:44: DeprecationWarning: This module was deprecated in version 0.18 in favor of the model_selection module into which all the refactored classes and functions are moved. Also note that the interface of the new CV iterators are different from that of this module. This module will be removed in 0.20.\n",
      "  \"This module will be removed in 0.20.\", DeprecationWarning)\n",
      "C:\\Users\\edte1\\Anaconda3\\lib\\site-packages\\sklearn\\grid_search.py:43: DeprecationWarning: This module was deprecated in version 0.18 in favor of the model_selection module into which all the refactored classes and functions are moved. This module will be removed in 0.20.\n",
      "  DeprecationWarning)\n"
     ]
    }
   ],
   "source": [
    "from sklearn.ensemble import RandomForestClassifier\n",
    "from sklearn.grid_search import GridSearchCV\n",
    "\n",
    "parameter_grid =  {\n",
    "    'max_features': [0.5, 1.],\n",
    "    'max_depth': [5., None]\n",
    "}\n",
    "\n",
    "grid_search = GridSearchCV(RandomForestClassifier(n_estimators=100), parameter_grid,\n",
    "                              cv=5, verbose=3)"
   ]
  },
  {
   "cell_type": "code",
   "execution_count": 4,
   "metadata": {},
   "outputs": [
    {
     "name": "stdout",
     "output_type": "stream",
     "text": [
      "Fitting 5 folds for each of 4 candidates, totalling 20 fits\n",
      "[CV] max_depth=5.0, max_features=0.5 .................................\n",
      "[CV] ........ max_depth=5.0, max_features=0.5, score=0.815642 -   0.0s\n",
      "[CV] max_depth=5.0, max_features=0.5 .................................\n"
     ]
    },
    {
     "name": "stderr",
     "output_type": "stream",
     "text": [
      "[Parallel(n_jobs=1)]: Done   1 out of   1 | elapsed:    0.0s remaining:    0.0s\n",
      "[Parallel(n_jobs=1)]: Done   2 out of   2 | elapsed:    0.2s remaining:    0.0s\n"
     ]
    },
    {
     "name": "stdout",
     "output_type": "stream",
     "text": [
      "[CV] ........ max_depth=5.0, max_features=0.5, score=0.826816 -   0.0s\n",
      "[CV] max_depth=5.0, max_features=0.5 .................................\n",
      "[CV] ........ max_depth=5.0, max_features=0.5, score=0.820225 -   0.0s\n",
      "[CV] max_depth=5.0, max_features=0.5 .................................\n",
      "[CV] ........ max_depth=5.0, max_features=0.5, score=0.792135 -   0.0s\n",
      "[CV] max_depth=5.0, max_features=0.5 .................................\n",
      "[CV] ........ max_depth=5.0, max_features=0.5, score=0.853107 -   0.0s\n",
      "[CV] max_depth=5.0, max_features=1.0 .................................\n",
      "[CV] ........ max_depth=5.0, max_features=1.0, score=0.798883 -   0.0s\n",
      "[CV] max_depth=5.0, max_features=1.0 .................................\n",
      "[CV] ........ max_depth=5.0, max_features=1.0, score=0.821229 -   0.0s\n",
      "[CV] max_depth=5.0, max_features=1.0 .................................\n",
      "[CV] ........ max_depth=5.0, max_features=1.0, score=0.820225 -   0.0s\n",
      "[CV] max_depth=5.0, max_features=1.0 .................................\n",
      "[CV] ........ max_depth=5.0, max_features=1.0, score=0.797753 -   0.0s\n",
      "[CV] max_depth=5.0, max_features=1.0 .................................\n",
      "[CV] ........ max_depth=5.0, max_features=1.0, score=0.847458 -   0.0s\n",
      "[CV] max_depth=None, max_features=0.5 ................................\n",
      "[CV] ....... max_depth=None, max_features=0.5, score=0.770950 -   0.0s\n",
      "[CV] max_depth=None, max_features=0.5 ................................\n",
      "[CV] ....... max_depth=None, max_features=0.5, score=0.815642 -   0.0s\n",
      "[CV] max_depth=None, max_features=0.5 ................................\n",
      "[CV] ....... max_depth=None, max_features=0.5, score=0.853933 -   0.0s\n",
      "[CV] max_depth=None, max_features=0.5 ................................\n",
      "[CV] ....... max_depth=None, max_features=0.5, score=0.769663 -   0.0s\n",
      "[CV] max_depth=None, max_features=0.5 ................................\n",
      "[CV] ....... max_depth=None, max_features=0.5, score=0.853107 -   0.0s\n",
      "[CV] max_depth=None, max_features=1.0 ................................\n",
      "[CV] ....... max_depth=None, max_features=1.0, score=0.793296 -   0.1s\n",
      "[CV] max_depth=None, max_features=1.0 ................................\n",
      "[CV] ....... max_depth=None, max_features=1.0, score=0.810056 -   0.1s\n",
      "[CV] max_depth=None, max_features=1.0 ................................\n",
      "[CV] ....... max_depth=None, max_features=1.0, score=0.853933 -   0.1s\n",
      "[CV] max_depth=None, max_features=1.0 ................................\n",
      "[CV] ....... max_depth=None, max_features=1.0, score=0.780899 -   0.1s\n",
      "[CV] max_depth=None, max_features=1.0 ................................\n",
      "[CV] ....... max_depth=None, max_features=1.0, score=0.830508 -   0.1s\n"
     ]
    },
    {
     "name": "stderr",
     "output_type": "stream",
     "text": [
      "[Parallel(n_jobs=1)]: Done  20 out of  20 | elapsed:    2.8s finished\n"
     ]
    },
    {
     "data": {
      "text/plain": [
       "GridSearchCV(cv=5, error_score='raise',\n",
       "       estimator=RandomForestClassifier(bootstrap=True, class_weight=None, criterion='gini',\n",
       "            max_depth=None, max_features='auto', max_leaf_nodes=None,\n",
       "            min_impurity_split=1e-07, min_samples_leaf=1,\n",
       "            min_samples_split=2, min_weight_fraction_leaf=0.0,\n",
       "            n_estimators=100, n_jobs=1, oob_score=False, random_state=None,\n",
       "            verbose=0, warm_start=False),\n",
       "       fit_params={}, iid=True, n_jobs=1,\n",
       "       param_grid={'max_features': [0.5, 1.0], 'max_depth': [5.0, None]},\n",
       "       pre_dispatch='2*n_jobs', refit=True, scoring=None, verbose=3)"
      ]
     },
     "execution_count": 4,
     "metadata": {},
     "output_type": "execute_result"
    }
   ],
   "source": [
    "grid_search.fit(train_data[:, 2:], train_data[0:, 0])"
   ]
  },
  {
   "cell_type": "markdown",
   "metadata": {},
   "source": [
    "이제 결과를 살펴보도록 한다."
   ]
  },
  {
   "cell_type": "code",
   "execution_count": 5,
   "metadata": {
    "scrolled": true
   },
   "outputs": [
    {
     "data": {
      "text/plain": [
       "[mean: 0.82155, std: 0.01962, params: {'max_depth': 5.0, 'max_features': 0.5},\n",
       " mean: 0.81706, std: 0.01819, params: {'max_depth': 5.0, 'max_features': 1.0},\n",
       " mean: 0.81257, std: 0.03725, params: {'max_depth': None, 'max_features': 0.5},\n",
       " mean: 0.81369, std: 0.02610, params: {'max_depth': None, 'max_features': 1.0}]"
      ]
     },
     "execution_count": 5,
     "metadata": {},
     "output_type": "execute_result"
    }
   ],
   "source": [
    "grid_search.grid_scores_"
   ]
  },
  {
   "cell_type": "markdown",
   "metadata": {},
   "source": [
    "결과를 sort하고, best-performance를 수행하는 parameter를 선택하여 튜닝한다."
   ]
  },
  {
   "cell_type": "code",
   "execution_count": 6,
   "metadata": {},
   "outputs": [
    {
     "data": {
      "text/plain": [
       "{'max_depth': 5.0, 'max_features': 0.5}"
      ]
     },
     "execution_count": 6,
     "metadata": {},
     "output_type": "execute_result"
    }
   ],
   "source": [
    "sorted(grid_search.grid_scores_, key=lambda x: x.mean_validation_score)\n",
    "grid_search.best_score_\n",
    "grid_search.best_params_"
   ]
  },
  {
   "cell_type": "markdown",
   "metadata": {},
   "source": [
    "parameter를 활용하여 model을 튜닝한다."
   ]
  },
  {
   "cell_type": "code",
   "execution_count": 7,
   "metadata": {
    "collapsed": true
   },
   "outputs": [],
   "source": [
    "model = RandomForestClassifier(n_estimators=100, max_features=0.5, max_depth=5.0)\n",
    "model = model.fit(train_data[0:, 2:], train_data[0:, 0])"
   ]
  },
  {
   "cell_type": "markdown",
   "metadata": {},
   "source": [
    "# Scikit-learn - Making prediction"
   ]
  },
  {
   "cell_type": "code",
   "execution_count": 9,
   "metadata": {},
   "outputs": [],
   "source": [
    "df_test = pd.read_csv('../data/test.csv')\n",
    "\n",
    "df_test = df_test.drop(['Name', 'Ticket', 'Cabin'], axis=1)\n",
    "\n",
    "df_test['Age'] = df_test['Age'].fillna(age_mean)\n",
    "\n",
    "fare_means = df.pivot_table('Fare', index='Pclass', aggfunc='mean')\n",
    "df_test['Fare'] = df_test[['Fare', 'Pclass']].apply(lambda x:\n",
    "                            fare_means.loc[x['Pclass']] if pd.isnull(x['Fare'])\n",
    "                            else x['Fare'], axis=1)\n",
    "\n",
    "df_test['Gender'] = df_test['Sex'].map({'female': 0, 'male': 1}).astype(int)\n",
    "df_test = pd.concat([df_test, pd.get_dummies(df_test['Embarked'], prefix='Embarked')],\n",
    "                axis=1)\n",
    "\n",
    "df_test = df_test.drop(['Sex', 'Embarked'], axis=1)\n",
    "\n",
    "test_data = df_test.values\n",
    "\n",
    "output = model.predict(test_data[:,1:])"
   ]
  },
  {
   "cell_type": "markdown",
   "metadata": {},
   "source": [
    "# Pandas - Preparing for submission"
   ]
  },
  {
   "cell_type": "code",
   "execution_count": 10,
   "metadata": {
    "collapsed": true
   },
   "outputs": [],
   "source": [
    "result = np.c_[test_data[:, 0].astype(int), output.astype(int)]\n",
    "\n",
    "df_result = pd.DataFrame(result[:, 0:2], columns=['PassengerID', 'Survive'])\n",
    "df_result.to_csv('../results/titanic_test_1-3.csv', index=False)"
   ]
  }
 ],
 "metadata": {
  "kernelspec": {
   "display_name": "Python 3",
   "language": "python",
   "name": "python3"
  },
  "language_info": {
   "codemirror_mode": {
    "name": "ipython",
    "version": 3
   },
   "file_extension": ".py",
   "mimetype": "text/x-python",
   "name": "python",
   "nbconvert_exporter": "python",
   "pygments_lexer": "ipython3",
   "version": "3.6.1"
  }
 },
 "nbformat": 4,
 "nbformat_minor": 2
}
