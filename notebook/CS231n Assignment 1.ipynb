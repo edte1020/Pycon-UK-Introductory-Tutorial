{
 "cells": [
  {
   "cell_type": "code",
   "execution_count": 1,
   "metadata": {},
   "outputs": [],
   "source": [
    "import numpy as np\n",
    "import matplotlib.pyplot as plt\n",
    "from sklearn.datasets import load_digits\n",
    "\n",
    "%matplotlib inline"
   ]
  },
  {
   "cell_type": "markdown",
   "metadata": {},
   "source": [
    "### mnist 데이터셋 로드"
   ]
  },
  {
   "cell_type": "code",
   "execution_count": 2,
   "metadata": {},
   "outputs": [],
   "source": [
    "digits = load_digits()"
   ]
  },
  {
   "cell_type": "code",
   "execution_count": 3,
   "metadata": {},
   "outputs": [
    {
     "name": "stdout",
     "output_type": "stream",
     "text": [
      "(1797,)\n",
      "(1797, 64)\n"
     ]
    }
   ],
   "source": [
    "print(digits.target.shape)\n",
    "print(digits.data.shape)"
   ]
  },
  {
   "cell_type": "code",
   "execution_count": 4,
   "metadata": {},
   "outputs": [
    {
     "data": {
      "text/plain": [
       "<matplotlib.image.AxesImage at 0x23a79260390>"
      ]
     },
     "execution_count": 4,
     "metadata": {},
     "output_type": "execute_result"
    },
    {
     "data": {
      "image/png": "[encoded data removed]",
      "text/plain": [
       "<Figure size 432x288 with 1 Axes>"
      ]
     },
     "metadata": {},
     "output_type": "display_data"
    }
   ],
   "source": [
    "plt.imshow(digits.images[4])"
   ]
  },
  {
   "cell_type": "code",
   "execution_count": 5,
   "metadata": {},
   "outputs": [],
   "source": [
    "W = np.random.normal(0, 1, [10, 64])\n",
    "b = np.random.normal(0, 1, [10, 1])\n",
    "x = digits.data.reshape([1797, 64, 1])\n",
    "target = digits.target.reshape(1797, 1)\n",
    "y = target.reshape([-1, 1])\n",
    "learning_rate = 0.01"
   ]
  },
  {
   "cell_type": "code",
   "execution_count": 6,
   "metadata": {},
   "outputs": [],
   "source": [
    "#y_hat 계산\n",
    "def return_y_hat(weight=None, data=None, bias=None):\n",
    "    y_hat = weight.dot(data) + bias\n",
    "    return y_hat\n",
    "\n",
    "#sigmoid 계산\n",
    "def sigmoid(y, y_hat):\n",
    "    difference = y_hat - y\n",
    "    cost = 1 / (1+np.exp(-difference))\n",
    "    return cost\n",
    "\n",
    "#Gradient\n",
    "def gradient_descent(cost, W, lr=None):\n",
    "    diff_sig = cost * (1 - cost)\n",
    "    W = W - (lr * diff_sig)\n",
    "    return W"
   ]
  },
  {
   "cell_type": "code",
   "execution_count": 7,
   "metadata": {},
   "outputs": [
    {
     "name": "stdout",
     "output_type": "stream",
     "text": [
      "100th training completed\n",
      "200th training completed\n",
      "300th training completed\n",
      "400th training completed\n",
      "500th training completed\n",
      "600th training completed\n",
      "700th training completed\n",
      "800th training completed\n",
      "900th training completed\n"
     ]
    },
    {
     "data": {
      "image/png": "[encoded data removed]",
      "text/plain": [
       "<Figure size 432x288 with 1 Axes>"
      ]
     },
     "metadata": {},
     "output_type": "display_data"
    }
   ],
   "source": [
    "plot_x = []\n",
    "plot_y = []\n",
    "\n",
    "for j in range(1, 1000):\n",
    "    for i in range(1, 1000):\n",
    "        y_hat = return_y_hat(weight=W, data=x[i], bias=b)\n",
    "        cost = sigmoid(y[i], y_hat)\n",
    "        W = gradient_descent(cost, W, lr=0.01)\n",
    "    if j % 100 == 0:\n",
    "        print(\"{}th training completed\".format(j))\n",
    "        plot_x.append(j)\n",
    "        plot_y.append(np.sum(cost))\n",
    "\n",
    "plt.plot(plot_x, plot_y)\n",
    "plt.show()"
   ]
  },
  {
   "cell_type": "markdown",
   "metadata": {},
   "source": [
    "## 못하겠다 ... Scikit-learn"
   ]
  },
  {
   "cell_type": "code",
   "execution_count": 11,
   "metadata": {},
   "outputs": [
    {
     "name": "stderr",
     "output_type": "stream",
     "text": [
      "C:\\Users\\edte1\\anaconda3\\lib\\site-packages\\sklearn\\utils\\validation.py:578: DataConversionWarning: A column-vector y was passed when a 1d array was expected. Please change the shape of y to (n_samples, ), for example using ravel().\n",
      "  y = column_or_1d(y, warn=True)\n"
     ]
    },
    {
     "data": {
      "text/plain": [
       "SVC(C=1.0, cache_size=200, class_weight=None, coef0=0.0,\n",
       "  decision_function_shape='ovr', degree=3, gamma='auto', kernel='rbf',\n",
       "  max_iter=-1, probability=False, random_state=None, shrinking=True,\n",
       "  tol=0.001, verbose=False)"
      ]
     },
     "execution_count": 11,
     "metadata": {},
     "output_type": "execute_result"
    }
   ],
   "source": [
    "from sklearn import svm\n",
    "x = digits.data.reshape([1797, 64])\n",
    "target = digits.target.reshape(1797, 1)\n",
    "y = target.reshape([-1, 1])\n",
    "\n",
    "x_train, x_test = x[:1500], x[1500: -1]\n",
    "y_train, y_test = y[:1500], y[1500: -1]\n",
    "\n",
    "clf = svm.SVC()\n",
    "clf.fit(x_train, y_train)"
   ]
  },
  {
   "cell_type": "code",
   "execution_count": 12,
   "metadata": {},
   "outputs": [
    {
     "data": {
      "text/plain": [
       "array([5, 7, 4, 6, 3, 1, 3, 9, 1, 7, 6, 5, 4, 3, 1, 4, 0, 5, 3, 6, 9, 6,\n",
       "       5, 5, 5, 4, 5, 7, 2, 5, 5, 2, 5, 7, 9, 5, 4, 5, 5, 4, 5, 0, 5, 9,\n",
       "       5, 0, 5, 2, 3, 4, 5, 5, 5, 5, 5, 0, 5, 5, 5, 4, 5, 5, 5, 0, 5, 5,\n",
       "       3, 5, 5, 5, 5, 5, 5, 5, 5, 5, 5, 5, 5, 0, 5, 5, 5, 5, 4, 1, 5, 5,\n",
       "       5, 5, 1, 5, 5, 5, 2, 5, 8, 5, 5, 5, 2, 5, 5, 3, 5, 5, 5, 5, 5, 5,\n",
       "       6, 5, 5, 1, 5, 5, 9, 5, 5, 5, 0, 1, 5, 5, 3, 2, 1, 5, 5, 5, 3, 1,\n",
       "       5, 5, 1, 5, 5, 5, 4, 3, 1, 4, 0, 5, 3, 5, 5, 5, 1, 5, 5, 5, 5, 7,\n",
       "       5, 5, 5, 5, 5, 5, 5, 4, 5, 0, 5, 5, 5, 0, 5, 2, 5, 5, 5, 5, 7, 5,\n",
       "       9, 0, 5, 5, 5, 4, 5, 6, 5, 5, 9, 5, 5, 5, 5, 4, 5, 5, 7, 5, 9, 0,\n",
       "       9, 5, 5, 5, 5, 0, 9, 5, 9, 5, 5, 5, 5, 7, 3, 5, 1, 5, 5, 5, 2, 7,\n",
       "       5, 2, 5, 5, 5, 6, 5, 5, 5, 5, 5, 5, 5, 6, 5, 5, 9, 5, 5, 5, 9, 5,\n",
       "       5, 5, 5, 5, 0, 5, 5, 5, 5, 5, 5, 5, 5, 5, 3, 1, 5, 9, 1, 7, 5, 5,\n",
       "       4, 5, 1, 5, 5, 5, 3, 5, 5, 6, 5, 5, 5, 5, 5, 5, 2, 5, 2, 5, 5, 7,\n",
       "       9, 5, 4, 5, 5, 4, 9, 0, 5, 5])"
      ]
     },
     "execution_count": 12,
     "metadata": {},
     "output_type": "execute_result"
    }
   ],
   "source": [
    "clf.predict(x_test)"
   ]
  },
  {
   "cell_type": "code",
   "execution_count": 13,
   "metadata": {
    "scrolled": true
   },
   "outputs": [
    {
     "name": "stdout",
     "output_type": "stream",
     "text": [
      "1.0\n",
      "0.47297297297297297\n"
     ]
    }
   ],
   "source": [
    "print(clf.score(x_train, y_train))\n",
    "print(clf.score(x_test, y_test))"
   ]
  }
 ],
 "metadata": {
  "kernelspec": {
   "display_name": "Python 3",
   "language": "python",
   "name": "python3"
  },
  "language_info": {
   "codemirror_mode": {
    "name": "ipython",
    "version": 3
   },
   "file_extension": ".py",
   "mimetype": "text/x-python",
   "name": "python",
   "nbconvert_exporter": "python",
   "pygments_lexer": "ipython3",
   "version": "3.6.5"
  }
 },
 "nbformat": 4,
 "nbformat_minor": 2
}
